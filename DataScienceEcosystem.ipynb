{
  "nbformat": 4,
  "nbformat_minor": 0,
  "metadata": {
    "colab": {
      "provenance": []
    },
    "kernelspec": {
      "name": "python3",
      "display_name": "Python 3"
    },
    "language_info": {
      "name": "python"
    }
  },
  "cells": [
    {
      "cell_type": "markdown",
      "source": [
        "## Data Science Tools and Ecosystem"
      ],
      "metadata": {
        "id": "QOnVMo7LbL-W"
      }
    },
    {
      "cell_type": "markdown",
      "source": [
        "## In this notebook, Data Science Tools and Ecosystem are Summarized"
      ],
      "metadata": {
        "id": "mn0f_zVCbuLi"
      }
    },
    {
      "cell_type": "markdown",
      "source": [
        "**Objectives:**\n",
        "+ Some of the popular langauges that Data Scientists use are\n",
        "+ Some of the commonly used libraries used by Data Scientists include\n",
        "* Data Science Tools"
      ],
      "metadata": {
        "id": "6xUKSVW5pSZW"
      }
    },
    {
      "cell_type": "markdown",
      "source": [
        "## Some of the popular languages that Data Scientists use are:"
      ],
      "metadata": {
        "id": "MoTk6ZsKcgX_"
      }
    },
    {
      "cell_type": "markdown",
      "source": [
        "1. python\n",
        "2. Java\n",
        "3. R"
      ],
      "metadata": {
        "id": "fnVgbNZYfcrc"
      }
    },
    {
      "cell_type": "markdown",
      "source": [
        "## Data Science Tools\n"
      ],
      "metadata": {
        "id": "otUCAOjEh1px"
      }
    },
    {
      "cell_type": "markdown",
      "source": [
        "| Data Science Tools|\n",
        "|-------------------|\n",
        "|1. Jupyter note book|\n",
        "|2. R studio|\n",
        "|3. Visual Studio Code|\n"
      ],
      "metadata": {
        "id": "R3H0j_POiJ-E"
      }
    },
    {
      "cell_type": "markdown",
      "source": [
        "## Some of the commonly used libraries used by Data Scientists include:"
      ],
      "metadata": {
        "id": "Ht30emv_l66o"
      }
    },
    {
      "cell_type": "markdown",
      "source": [
        "1. Pandas(Scientific Computing)\n",
        "2. MathPlotLib(Data Vizualization)\n",
        "3. SciKit-Learn(Machine_learning)"
      ],
      "metadata": {
        "id": "7qFPQVB3mFv3"
      }
    },
    {
      "cell_type": "markdown",
      "source": [
        "### Below are a few examples of evaluating arithmetic expressions in python"
      ],
      "metadata": {
        "id": "CZd1k5SSqy6C"
      }
    },
    {
      "cell_type": "code",
      "source": [
        "# This is a simple arithmetic expression to multiply then add integers\n",
        "(3*4)+5"
      ],
      "metadata": {
        "colab": {
          "base_uri": "https://localhost:8080/"
        },
        "id": "FkxcyfbasIAE",
        "outputId": "8804c16a-6c83-47cb-e226-30187f14b28c"
      },
      "execution_count": 11,
      "outputs": [
        {
          "output_type": "execute_result",
          "data": {
            "text/plain": [
              "17"
            ]
          },
          "metadata": {},
          "execution_count": 11
        }
      ]
    },
    {
      "cell_type": "code",
      "source": [
        "#This will convert 200 minutes to hours by dividing by 60\n",
        "200/60"
      ],
      "metadata": {
        "colab": {
          "base_uri": "https://localhost:8080/"
        },
        "id": "V7tA1nDxsZPd",
        "outputId": "9821bdbf-af5e-4945-a53e-a4ad00a52589"
      },
      "execution_count": 12,
      "outputs": [
        {
          "output_type": "execute_result",
          "data": {
            "text/plain": [
              "3.3333333333333335"
            ]
          },
          "metadata": {},
          "execution_count": 12
        }
      ]
    },
    {
      "cell_type": "markdown",
      "source": [
        "## Author\n",
        "Qasim Arigbabu"
      ],
      "metadata": {
        "id": "ajmduWRzslUN"
      }
    }
  ]
}